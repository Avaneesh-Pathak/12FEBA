{
 "cells": [
  {
   "cell_type": "code",
   "execution_count": null,
   "id": "ef1c3b9b-9d0c-4025-99df-b2506e70e44c",
   "metadata": {},
   "outputs": [],
   "source": [
    "what is an exception in pyhton? Write the difference between and syntax errors."
   ]
  },
  {
   "cell_type": "code",
   "execution_count": null,
   "id": "647f7404-99f6-43fc-b4e3-63e65acf841f",
   "metadata": {},
   "outputs": [],
   "source": [
    "--->  In Python an exception is an error that ocurs during the excution of a proogram . When an exception occurs,the normal flow of program is distrupted, and the \n",
    "the interpreter looks for an exceptio handling block to handle the exception. If no exceptionhandling blbock\n",
    "is found the program tertminates and an error message is displayed.\n",
    "Syantax error on the hand occuc when the code violates the rule of the pyhton syntax.\n",
    "This means that the interpreter cannot understand the code and it will stop the execution of the program."
   ]
  },
  {
   "cell_type": "code",
   "execution_count": null,
   "id": "86c376ab-eaae-479a-922c-8436ffc68d49",
   "metadata": {},
   "outputs": [],
   "source": [
    "what happens when an exception is not handled ? expllain with an example. "
   ]
  },
  {
   "cell_type": "code",
   "execution_count": null,
   "id": "22c0b1fe-9de1-4b32-96ee-4306223d0c33",
   "metadata": {},
   "outputs": [],
   "source": [
    "--->  When an exception is not handled, the program will terminate abruptly, and an error message \n",
    "will be dispalayed to the user . The error mesage wil indicate the type of Exception that occured along with a traceback that shows where the exception occured in the code."
   ]
  },
  {
   "cell_type": "code",
   "execution_count": null,
   "id": "ded49f1a-ab73-4c2e-bc42-0fed00688928",
   "metadata": {},
   "outputs": [],
   "source": [
    "Which Python statement are used to catch and handle exception ? Explain with an example"
   ]
  },
  {
   "cell_type": "code",
   "execution_count": null,
   "id": "1f3d795c-cb8a-4cbf-8df8-6ba8059688d1",
   "metadata": {},
   "outputs": [],
   "source": [
    "---->   In Pyhthon try and except statement are used to catch and handle exception .\n",
    "the try block contains the code that may raise an exception and \n",
    "the except block contains the code that handles the exception if it occurs."
   ]
  },
  {
   "cell_type": "code",
   "execution_count": 1,
   "id": "bc5602be-3eaa-4c78-b641-e6b9d112d8f9",
   "metadata": {},
   "outputs": [
    {
     "name": "stdout",
     "output_type": "stream",
     "text": [
      "A division by zero error occurred\n"
     ]
    }
   ],
   "source": [
    "try:\n",
    "    x = 10 / 0\n",
    "except ZeroDivisionError:\n",
    "    print(\"A division by zero error occurred\")\n"
   ]
  },
  {
   "cell_type": "code",
   "execution_count": null,
   "id": "c718b0e6-6f8d-41a5-838b-91a975e164c6",
   "metadata": {},
   "outputs": [],
   "source": [
    "Explain with an example :\n",
    "    a.try and else\n",
    "    b.finally \n",
    "    c.raise"
   ]
  },
  {
   "cell_type": "code",
   "execution_count": null,
   "id": "6382c863-fb49-4dee-9ac8-c3e9ca4202f5",
   "metadata": {},
   "outputs": [],
   "source": [
    "the try and else statement are used to execute code if no exception is raised in a try block the finally statement is used to excute code regardless of weather anexception is raised or not and the raise statement is used to raise an exception manually .\n",
    "these statement are poewerful tools for handling errors and controlling program flow in python "
   ]
  },
  {
   "cell_type": "code",
   "execution_count": null,
   "id": "b52ff5e3-7853-4a60-b70f-c6576cd72bb2",
   "metadata": {},
   "outputs": [],
   "source": [
    "What are custom excception in python?Why do we need custom exception ? Explain with an example"
   ]
  },
  {
   "cell_type": "code",
   "execution_count": null,
   "id": "44ebe908-cffa-43e5-bf04-248df9af31a9",
   "metadata": {},
   "outputs": [],
   "source": [
    "---->  In python custom exception are user defined exception that allows you to create your own error messages andraise them in your code.\n",
    "custom exceptioon can be usefull when you need to handle a specific type of error that is not overred by the built in eception.\n",
    "by providing more informative error messages,custom exception can make your code more user friendly and easier to debug"
   ]
  },
  {
   "cell_type": "code",
   "execution_count": null,
   "id": "d264c10f-6372-4080-a469-42b03a126bd1",
   "metadata": {},
   "outputs": [],
   "source": [
    "Create a custom exception class.Use this code to handle an exception\n"
   ]
  },
  {
   "cell_type": "code",
   "execution_count": 3,
   "id": "0a395fa7-e634-4c5b-ae0d-2927ad9f87ee",
   "metadata": {},
   "outputs": [
    {
     "name": "stdin",
     "output_type": "stream",
     "text": [
      "Enter a positive number:  50\n"
     ]
    },
    {
     "name": "stdout",
     "output_type": "stream",
     "text": [
      "The square root of 50.0 is 7.0710678118654755\n"
     ]
    }
   ],
   "source": [
    "class NegativeNumberError(Exception):\n",
    "    def __init__(self, message):\n",
    "        self.message = message\n",
    "\n",
    "def calculate_square_root(x):\n",
    "    if x < 0:\n",
    "        raise NegativeNumberError(\"Cannot calculate square root of negative number\")\n",
    "    else:\n",
    "        return x ** 0.5\n",
    "\n",
    "try:\n",
    "    x = float(input(\"Enter a positive number: \"))\n",
    "    result = calculate_square_root(x)\n",
    "    print(\"The square root of\", x, \"is\", result)\n",
    "except NegativeNumberError as e:\n",
    "    print(\"Error:\", e.message)\n"
   ]
  },
  {
   "cell_type": "code",
   "execution_count": null,
   "id": "81cc000a-6998-4c76-b523-265d1cc7abf0",
   "metadata": {},
   "outputs": [],
   "source": []
  }
 ],
 "metadata": {
  "kernelspec": {
   "display_name": "Python 3 (ipykernel)",
   "language": "python",
   "name": "python3"
  },
  "language_info": {
   "codemirror_mode": {
    "name": "ipython",
    "version": 3
   },
   "file_extension": ".py",
   "mimetype": "text/x-python",
   "name": "python",
   "nbconvert_exporter": "python",
   "pygments_lexer": "ipython3",
   "version": "3.10.8"
  }
 },
 "nbformat": 4,
 "nbformat_minor": 5
}
